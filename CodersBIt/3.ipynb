{
 "cells": [
  {
   "cell_type": "code",
   "execution_count": 70,
   "metadata": {},
   "outputs": [],
   "source": [
    "A = [1,2,2,5,6]\n",
    "b = [] \n",
    "for (i,x) in enumerate(A):\n",
    "    if x%2 == 0:\n",
    "        b.append(1)\n",
    "    else:\n",
    "        b.append(0)\n",
    "n = i;"
   ]
  },
  {
   "cell_type": "code",
   "execution_count": 71,
   "metadata": {},
   "outputs": [
    {
     "data": {
      "text/plain": [
       "4"
      ]
     },
     "execution_count": 71,
     "metadata": {},
     "output_type": "execute_result"
    }
   ],
   "source": [
    "a= []\n",
    "max = 1;\n",
    "for (i,x) in enumerate(b):\n",
    "    if i < n :\n",
    "        if b[i+1] != x:\n",
    "            max = max + 1\n",
    "#         else:\n",
    "#             a.append(max)\n",
    "#             max = 1\n",
    "max"
   ]
  },
  {
   "cell_type": "code",
   "execution_count": null,
   "metadata": {},
   "outputs": [],
   "source": []
  }
 ],
 "metadata": {
  "kernelspec": {
   "display_name": "Python 3",
   "language": "python",
   "name": "python3"
  },
  "language_info": {
   "codemirror_mode": {
    "name": "ipython",
    "version": 3
   },
   "file_extension": ".py",
   "mimetype": "text/x-python",
   "name": "python",
   "nbconvert_exporter": "python",
   "pygments_lexer": "ipython3",
   "version": "3.7.3"
  }
 },
 "nbformat": 4,
 "nbformat_minor": 2
}
